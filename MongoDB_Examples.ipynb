{
 "cells": [
  {
   "cell_type": "code",
   "execution_count": null,
   "metadata": {},
   "outputs": [],
   "source": [
    "import pandas as pd\n",
    "import csv\n",
    "import json\n",
    "from bson.code import Code\n",
    "from pymongo import MongoClient\n",
    "db =  MongoClient().tweets_2020\n",
    "\n",
    "map = Code(\"\"\"function () {\n",
    "        if (!this.hasOwnProperty('retweeted_status')){\n",
    "            emit('unique', 1);\n",
    "        }else{\n",
    "            emit('retweet', 1);\n",
    "        }\n",
    "        \n",
    "   \n",
    "}\"\"\")\n",
    "\n",
    "reduce = Code(\"\"\"function (key, values) {\n",
    "var total = 0;\n",
    "for (var i = 0; i < values.length; i++) {\n",
    "total += values[i];\n",
    "}\n",
    "return total;\n",
    "}\"\"\")\n",
    "\n",
    "result = db.m12_d31.map_reduce(map, reduce, \"myresults\")\n",
    "for doc in result.find():\n",
    "    print(doc)"
   ]
  }
 ],
 "metadata": {
  "kernelspec": {
   "display_name": "Python 3",
   "language": "python",
   "name": "python3"
  },
  "language_info": {
   "codemirror_mode": {
    "name": "ipython",
    "version": 3
   },
   "file_extension": ".py",
   "mimetype": "text/x-python",
   "name": "python",
   "nbconvert_exporter": "python",
   "pygments_lexer": "ipython3",
   "version": "3.7.4"
  }
 },
 "nbformat": 4,
 "nbformat_minor": 2
}
