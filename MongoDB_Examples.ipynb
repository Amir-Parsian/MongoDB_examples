{
 "cells": [
  {
   "cell_type": "markdown",
   "metadata": {},
   "source": [
    "# MongoDB Examples\n",
    "## Map reduce\n",
    "Here is an example on how to use map reduce to find how many tweets are unique and how many are retweets. The tweets are downloaded from archive.org. In this example the tweets are from 2020-12-31, 01:50\n",
    "In archive.org website, tweets for every day of the year are given in form of a zip file. In the zip file the tweets are given in form of .bz2 for every minute.\n",
    "You can unzip these .bz2 files with following command:\n",
    " \n",
    "<p style=\"background:black\"><code style=\"background:black;color:white\"> $ bzip2 -dk [.bz2 file] </code></p>\n",
    "    \n",
    "The output of this command is a json file that contains the tweets in the given minute.\n",
    "Now we need to add this tweets to the MongoDB. To do that write the following command in the terminal:\n",
    "  \n",
    "<p style=\"background:black\"><code style=\"background:black;color:white\"> $ mongoimport --db [database_name] --collection [collection_name] [json file] </code></p>\n",
    "\n",
    "You can verify that database is added to MongoDB by running the following comment in MongoDB shell:\n",
    "<p style=\"background:black\"><code style=\"background:black;color:white\"> > show dbs </code></p>\n",
    " \n",
    "Finally, we use the following map reduce script to find out how many of this are retweet. In this example it assumed that the database is called tweets_2020 and the name of the collection is  m12_d31_h01_50 which is json file for tweets at 01:50 o'clock on 2020-12-31.\n",
    "You need to install pymongo. In case you are using anaconda, do the installation by conda as follows:\n",
    "\n",
    "<p style=\"background:black\"><code style=\"background:black;color:white\"> conda install -c anaconda pymongo </code></p>\n"
   ]
  },
  {
   "cell_type": "code",
   "execution_count": 2,
   "metadata": {},
   "outputs": [
    {
     "name": "stdout",
     "output_type": "stream",
     "text": [
      "{'_id': 'unique', 'value': 2835.0}\n",
      "{'_id': 'retweet', 'value': 1177.0}\n"
     ]
    }
   ],
   "source": [
    "import pandas as pd\n",
    "import csv\n",
    "import json\n",
    "from bson.code import Code\n",
    "from pymongo import MongoClient\n",
    "db =  MongoClient().tweets_2020\n",
    "\n",
    "map = Code(\"\"\"function () {\n",
    "        if (!this.hasOwnProperty('retweeted_status')){\n",
    "            emit('unique', 1);\n",
    "        }else{\n",
    "            emit('retweet', 1);\n",
    "        }\n",
    "        \n",
    "   \n",
    "}\"\"\")\n",
    "\n",
    "reduce = Code(\"\"\"function (key, values) {\n",
    "var total = 0;\n",
    "for (var i = 0; i < values.length; i++) {\n",
    "total += values[i];\n",
    "}\n",
    "return total;\n",
    "}\"\"\")\n",
    "\n",
    "result = db.m12_d31_h01_50.map_reduce(map, reduce, \"myresults\")\n",
    "for doc in result.find():\n",
    "    print(doc)"
   ]
  },
  {
   "cell_type": "code",
   "execution_count": 13,
   "metadata": {},
   "outputs": [],
   "source": [
    "\n"
   ]
  },
  {
   "cell_type": "code",
   "execution_count": null,
   "metadata": {},
   "outputs": [],
   "source": []
  }
 ],
 "metadata": {
  "kernelspec": {
   "display_name": "Python 3",
   "language": "python",
   "name": "python3"
  },
  "language_info": {
   "codemirror_mode": {
    "name": "ipython",
    "version": 3
   },
   "file_extension": ".py",
   "mimetype": "text/x-python",
   "name": "python",
   "nbconvert_exporter": "python",
   "pygments_lexer": "ipython3",
   "version": "3.7.4"
  }
 },
 "nbformat": 4,
 "nbformat_minor": 2
}
